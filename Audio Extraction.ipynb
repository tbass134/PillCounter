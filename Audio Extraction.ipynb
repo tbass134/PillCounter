{
 "cells": [
  {
   "cell_type": "code",
   "execution_count": 11,
   "metadata": {
    "collapsed": true
   },
   "outputs": [],
   "source": [
    "from __future__ import print_function\n",
    "from pyAudioAnalysis import audioBasicIO\n",
    "from pyAudioAnalysis import audioFeatureExtraction\n",
    "import matplotlib.pyplot as plt\n",
    "import numpy as np"
   ]
  },
  {
   "cell_type": "code",
   "execution_count": 12,
   "metadata": {
    "collapsed": true
   },
   "outputs": [],
   "source": [
    "from pyAudioAnalysis import audioTrainTest as aT"
   ]
  },
  {
   "cell_type": "code",
   "execution_count": 13,
   "metadata": {
    "collapsed": true
   },
   "outputs": [],
   "source": [
    "aT.featureAndTrain([\"audio/pills_1/\",\"audio/pills_10/\", \"audio/pills_25/\", \"audio/pills_50/\"], 1.0, 1.0, aT.shortTermWindow, aT.shortTermStep, \"svm\", \"svmSMtemp\", False)"
   ]
  },
  {
   "cell_type": "code",
   "execution_count": 16,
   "metadata": {},
   "outputs": [
    {
     "data": {
      "text/plain": [
       "(1.0,\n",
       " array([ 0.03655444,  0.78250312,  0.15739031,  0.02355213]),\n",
       " ['pills_1', 'pills_10', 'pills_25', 'pills_50'])"
      ]
     },
     "execution_count": 16,
     "metadata": {},
     "output_type": "execute_result"
    }
   ],
   "source": [
    "#perdict input audio file as with 10 pills\n",
    "ten_pills_sample = \"audio/test/pills_10.wav\"\n",
    "aT.fileClassification(ten_pills_sample, \"svmSMtemp\",\"svm\")"
   ]
  },
  {
   "cell_type": "code",
   "execution_count": 17,
   "metadata": {},
   "outputs": [
    {
     "data": {
      "text/plain": [
       "(2.0,\n",
       " array([ 0.01045418,  0.40132615,  0.55534883,  0.03287085]),\n",
       " ['pills_1', 'pills_10', 'pills_25', 'pills_50'])"
      ]
     },
     "execution_count": 17,
     "metadata": {},
     "output_type": "execute_result"
    }
   ],
   "source": [
    "#perdict input audio file as with 25 pills\n",
    "twenty_five_pills_sample = \"audio/test/pills_25.wav\"\n",
    "aT.fileClassification(twenty_five_pills_sample, \"svmSMtemp\",\"svm\")"
   ]
  },
  {
   "cell_type": "code",
   "execution_count": 18,
   "metadata": {},
   "outputs": [
    {
     "data": {
      "text/plain": [
       "(-1, -1, -1)"
      ]
     },
     "execution_count": 18,
     "metadata": {},
     "output_type": "execute_result"
    }
   ],
   "source": [
    "#perdict input audio file as with 50 pills\n",
    "fifty_pills_sample = \"audio/test/pills_50.wav\"\n",
    "aT.fileClassification(fifty_pills_sample, \"svmSMtemp\",\"svm\")"
   ]
  },
  {
   "cell_type": "code",
   "execution_count": null,
   "metadata": {
    "collapsed": true
   },
   "outputs": [],
   "source": []
  },
  {
   "cell_type": "code",
   "execution_count": null,
   "metadata": {
    "collapsed": true
   },
   "outputs": [],
   "source": []
  }
 ],
 "metadata": {
  "kernelspec": {
   "display_name": "Python 2",
   "language": "python",
   "name": "python2"
  },
  "language_info": {
   "codemirror_mode": {
    "name": "ipython",
    "version": 2
   },
   "file_extension": ".py",
   "mimetype": "text/x-python",
   "name": "python",
   "nbconvert_exporter": "python",
   "pygments_lexer": "ipython2",
   "version": "2.7.13"
  }
 },
 "nbformat": 4,
 "nbformat_minor": 2
}

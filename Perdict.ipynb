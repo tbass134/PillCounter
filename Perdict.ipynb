{
 "cells": [
  {
   "cell_type": "code",
   "execution_count": 1,
   "metadata": {
    "collapsed": true
   },
   "outputs": [],
   "source": [
    "from __future__ import print_function\n",
    "from pyAudioAnalysis import audioBasicIO\n",
    "from pyAudioAnalysis import audioFeatureExtraction as aF\n",
    "import matplotlib.pyplot as plt\n",
    "from pyAudioAnalysis import audioTrainTest as aT\n",
    "from sklearn import svm\n",
    "import sklearn.svm\n",
    "import cPickle\n",
    "import numpy as np"
   ]
  },
  {
   "cell_type": "code",
   "execution_count": 2,
   "metadata": {
    "collapsed": true
   },
   "outputs": [],
   "source": [
    "def loadSVModel(SVMmodelName):\n",
    "    '''\n",
    "    This function loads an SVM model either for classification or training.\n",
    "    ARGMUMENTS:\n",
    "        - SVMmodelName:     the path of the model to be loaded\n",
    "        - isRegression:        a flag indigating whereas this model is regression or not\n",
    "    '''\n",
    "    try:\n",
    "        fo = open(SVMmodelName+\"MEANS\", \"rb\")\n",
    "    except IOError:\n",
    "            print (\"Load SVM Model: Didn't find file\")\n",
    "            return\n",
    "    try:\n",
    "        MEAN = cPickle.load(fo)\n",
    "        STD = cPickle.load(fo)\n",
    "\n",
    "    except:\n",
    "        fo.close()\n",
    "    fo.close()\n",
    "\n",
    "    MEAN = np.array(MEAN)\n",
    "    STD = np.array(STD)\n",
    "\n",
    "    COEFF = []\n",
    "    with open(SVMmodelName, 'rb') as fid:\n",
    "        SVM = cPickle.load(fid)    \n",
    "\n",
    "    return(SVM, MEAN, STD)"
   ]
  },
  {
   "cell_type": "code",
   "execution_count": 6,
   "metadata": {
    "collapsed": true
   },
   "outputs": [],
   "source": [
    "def perdict(files, file, modelName):\n",
    "    #read audio file, convert to mono (if needed)\n",
    "    [Fs, x] = audioBasicIO.readAudioFile(file)\n",
    "    x = audioBasicIO.stereo2mono(x)\n",
    "    \n",
    "    if modelName:\n",
    "        mtWin, mtStep, stWin, stStep = 1.0, 1.0, aT.shortTermWindow, aT.shortTermStep\n",
    "        Classifier, MEAN, STD = loadSVModel(modelName)\n",
    "    else:\n",
    "        with open(SVMmodelName, 'rb') as fid:\n",
    "            Classifier = cPickle.load(fid)\n",
    "            MEAN = cPickle.load(fo)\n",
    "            STD = cPickle.load(fo)\n",
    "            mtWin, mtStep, stWin, stStep = 1.0, 1.0, aT.shortTermWindow, aT.shortTermStep\n",
    "\n",
    "\n",
    "    #extract features from sample\n",
    "    [MidTermFeatures, s] = aF.mtFeatureExtraction(x, Fs, mtWin * Fs, mtStep * Fs, round(Fs * stWin), round(Fs * stStep))\n",
    "    MidTermFeatures = MidTermFeatures.mean(axis=1)        # long term averaging of mid-term statistics\n",
    "    curFV = (MidTermFeatures - MEAN) / STD                # normalization\n",
    "\n",
    "    #predict\n",
    "    result = Classifier.predict(curFV.reshape(1,-1))[0]\n",
    "    prob = Classifier.predict_proba(curFV.reshape(1,-1))[0]\n",
    "    return files[int(result)], prob"
   ]
  },
  {
   "cell_type": "code",
   "execution_count": 7,
   "metadata": {},
   "outputs": [
    {
     "data": {
      "text/plain": [
       "('audio/pills_50/',\n",
       " array([ 0.01245314,  0.23426201,  0.26213867,  0.49114618]))"
      ]
     },
     "execution_count": 7,
     "metadata": {},
     "output_type": "execute_result"
    }
   ],
   "source": [
    "files = [\"audio/pills_1/\",\"audio/pills_10/\", \"audio/pills_25/\", \"audio/pills_50/\"]\n",
    "perdict(files, \"audio/test/pills_50.wav\", \"myMod\")"
   ]
  },
  {
   "cell_type": "code",
   "execution_count": null,
   "metadata": {
    "collapsed": true
   },
   "outputs": [],
   "source": []
  }
 ],
 "metadata": {
  "kernelspec": {
   "display_name": "Python 2",
   "language": "python",
   "name": "python2"
  },
  "language_info": {
   "codemirror_mode": {
    "name": "ipython",
    "version": 2
   },
   "file_extension": ".py",
   "mimetype": "text/x-python",
   "name": "python",
   "nbconvert_exporter": "python",
   "pygments_lexer": "ipython2",
   "version": "2.7.13"
  }
 },
 "nbformat": 4,
 "nbformat_minor": 2
}

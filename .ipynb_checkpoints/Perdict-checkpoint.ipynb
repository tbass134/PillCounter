{
 "cells": [
  {
   "cell_type": "code",
   "execution_count": 5,
   "metadata": {
    "collapsed": true
   },
   "outputs": [],
   "source": [
    "from __future__ import print_function\n",
    "from pyAudioAnalysis import audioBasicIO\n",
    "from pyAudioAnalysis import audioFeatureExtraction as aF\n",
    "import matplotlib.pyplot as plt\n",
    "from pyAudioAnalysis import audioTrainTest as aT\n",
    "from sklearn import svm\n",
    "import sklearn.svm\n",
    "import cPickle\n",
    "import numpy as np\n",
    "import re"
   ]
  },
  {
   "cell_type": "code",
   "execution_count": 6,
   "metadata": {
    "collapsed": true
   },
   "outputs": [],
   "source": [
    "def loadSVModel(SVMmodelName):\n",
    "    '''\n",
    "    This function loads an SVM model either for classification or training.\n",
    "    ARGMUMENTS:\n",
    "        - SVMmodelName:     the path of the model to be loaded\n",
    "        - isRegression:        a flag indigating whereas this model is regression or not\n",
    "    '''\n",
    "    try:\n",
    "        fo = open(SVMmodelName+\"MEANS\", \"rb\")\n",
    "    except IOError:\n",
    "            print (\"Load SVM Model: Didn't find file\")\n",
    "            return\n",
    "    try:\n",
    "        MEAN = cPickle.load(fo)\n",
    "        STD = cPickle.load(fo)\n",
    "\n",
    "    except:\n",
    "        fo.close()\n",
    "    fo.close()\n",
    "\n",
    "    MEAN = np.array(MEAN)\n",
    "    STD = np.array(STD)\n",
    "\n",
    "    COEFF = []\n",
    "    with open(SVMmodelName, 'rb') as fid:\n",
    "        SVM = cPickle.load(fid)    \n",
    "\n",
    "    return(SVM, MEAN, STD)"
   ]
  },
  {
   "cell_type": "code",
   "execution_count": 9,
   "metadata": {
    "collapsed": true
   },
   "outputs": [],
   "source": [
    "def perdict(files, file, modelName):\n",
    "    #read audio file, convert to mono (if needed)\n",
    "    [Fs, x] = audioBasicIO.readAudioFile(file)\n",
    "    x = audioBasicIO.stereo2mono(x)\n",
    "    \n",
    "    if modelName:\n",
    "        mtWin, mtStep, stWin, stStep = 1.0, 1.0, aT.shortTermWindow, aT.shortTermStep\n",
    "        Classifier, MEAN, STD = loadSVModel(modelName)\n",
    "    else:\n",
    "        with open(SVMmodelName, 'rb') as fid:\n",
    "            Classifier = cPickle.load(fid)\n",
    "            MEAN = cPickle.load(fo)\n",
    "            STD = cPickle.load(fo)\n",
    "            mtWin, mtStep, stWin, stStep = 1.0, 1.0, aT.shortTermWindow, aT.shortTermStep\n",
    "\n",
    "\n",
    "    #extract features from sample\n",
    "    [MidTermFeatures, s] = aF.mtFeatureExtraction(x, Fs, mtWin * Fs, mtStep * Fs, round(Fs * stWin), round(Fs * stStep))\n",
    "    MidTermFeatures = MidTermFeatures.mean(axis=1)        # long term averaging of mid-term statistics\n",
    "    curFV = (MidTermFeatures - MEAN) / STD                # normalization\n",
    "\n",
    "    #predict\n",
    "    result = Classifier.predict(curFV.reshape(1,-1))[0]\n",
    "    prob = Classifier.predict_proba(curFV.reshape(1,-1))[0]\n",
    "    print(\"result {}\".format(result))\n",
    "    print(\"prob {}\".format(prob))\n",
    "    s = files[int(result)]\n",
    "    print(\"s {}\".format(s))\n",
    "    \n",
    "    return s"
   ]
  },
  {
   "cell_type": "code",
   "execution_count": 10,
   "metadata": {},
   "outputs": [
    {
     "data": {
      "text/plain": [
       "'audio/16k/pills_10/'"
      ]
     },
     "execution_count": 10,
     "metadata": {},
     "output_type": "execute_result"
    }
   ],
   "source": [
    "files = [\"audio/16k_webocket/pills_1/\",\"audio/16k_webocket/pills_10/\", \"audio/16k_webocket/pills_25/\", \"audio/16k_webocket/pills_50/\"]\n",
    "# perdict(files, \"audio/16k/test/25_pill.wav\", \"16k_model\")\n",
    "perdict(files, \"recordings/rec-18457297292-20171201T122439.wav\", \"16k_websocket_model\")"
   ]
  },
  {
   "cell_type": "raw",
   "metadata": {
    "collapsed": true
   },
   "source": []
  }
 ],
 "metadata": {
  "kernelspec": {
   "display_name": "Python 2",
   "language": "python",
   "name": "python2"
  },
  "language_info": {
   "codemirror_mode": {
    "name": "ipython",
    "version": 2
   },
   "file_extension": ".py",
   "mimetype": "text/x-python",
   "name": "python",
   "nbconvert_exporter": "python",
   "pygments_lexer": "ipython2",
   "version": "2.7.13"
  }
 },
 "nbformat": 4,
 "nbformat_minor": 2
}

{
 "cells": [
  {
   "cell_type": "code",
   "execution_count": 1,
   "metadata": {
    "collapsed": true
   },
   "outputs": [],
   "source": [
    "from __future__ import print_function\n",
    "from pyAudioAnalysis import audioBasicIO\n",
    "from pyAudioAnalysis import audioFeatureExtraction as aF\n",
    "import matplotlib.pyplot as plt\n",
    "from pyAudioAnalysis import audioTrainTest as aT\n",
    "from sklearn import svm\n",
    "import sklearn.svm\n",
    "import cPickle\n",
    "import numpy as np"
   ]
  },
  {
   "cell_type": "code",
   "execution_count": 2,
   "metadata": {
    "collapsed": true
   },
   "outputs": [],
   "source": [
    "def train(files):\n",
    "    #extract feature\n",
    "    features, classes, filenames = aF.dirsWavFeatureExtraction(files, 1.0, 1.0, aT.shortTermWindow, aT.shortTermStep)\n",
    "    #normalize\n",
    "    [featuresNorm, MEAN, STD] = aT.normalizeFeatures(features)\n",
    "    [X, Y] = aT.listOfFeatures2Matrix(featuresNorm)\n",
    "    #train using SVM\n",
    "    clf = sklearn.svm.SVC(kernel = 'linear',  probability = True)        \n",
    "    clf.fit(X, Y)\n",
    "    return clf, MEAN, STD"
   ]
  },
  {
   "cell_type": "code",
   "execution_count": 3,
   "metadata": {
    "collapsed": true
   },
   "outputs": [],
   "source": [
    "def saveTraining(Classifier, MEAN, STD, modelName):\n",
    "    with open(modelName, 'wb') as fid:                                            # save to file\n",
    "        cPickle.dump(Classifier, fid)            \n",
    "    fo = open(modelName + \"MEANS\", \"wb\")\n",
    "    cPickle.dump(MEAN, fo, protocol=cPickle.HIGHEST_PROTOCOL)\n",
    "    cPickle.dump(STD, fo, protocol=cPickle.HIGHEST_PROTOCOL)\n",
    "    fo.close()        "
   ]
  },
  {
   "cell_type": "code",
   "execution_count": 4,
   "metadata": {
    "collapsed": true
   },
   "outputs": [],
   "source": [
    "files = [\"audio/16k_websocket/pills_1/\",\"audio/16k_websocket/pills_10/\", \"audio/16k_websocket/pills_25/\", \"audio/16k_websocket/pills_50/\"]\n",
    "clf, MEAN, STD = train(files)"
   ]
  },
  {
   "cell_type": "code",
   "execution_count": 5,
   "metadata": {
    "collapsed": true
   },
   "outputs": [],
   "source": [
    "saveTraining(clf, MEAN, STD, \"16k_websocket_model\")"
   ]
  },
  {
   "cell_type": "code",
   "execution_count": null,
   "metadata": {
    "collapsed": true
   },
   "outputs": [],
   "source": []
  }
 ],
 "metadata": {
  "kernelspec": {
   "display_name": "Python 2",
   "language": "python",
   "name": "python2"
  },
  "language_info": {
   "codemirror_mode": {
    "name": "ipython",
    "version": 2
   },
   "file_extension": ".py",
   "mimetype": "text/x-python",
   "name": "python",
   "nbconvert_exporter": "python",
   "pygments_lexer": "ipython2",
   "version": "2.7.13"
  }
 },
 "nbformat": 4,
 "nbformat_minor": 2
}
